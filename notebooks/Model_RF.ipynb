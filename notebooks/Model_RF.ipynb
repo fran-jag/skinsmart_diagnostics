{
 "cells": [
  {
   "cell_type": "code",
   "execution_count": 20,
   "metadata": {},
   "outputs": [],
   "source": [
    "import seaborn as sns\n",
    "import pandas as pd\n",
    "import matplotlib.pyplot as plt\n",
    "import matplotlib.image as mpimg\n",
    "from imblearn.over_sampling import RandomOverSampler\n",
    "import numpy as np\n",
    "from sklearn.model_selection import train_test_split\n",
    "import os\n",
    "from sklearn.metrics import precision_score, recall_score, accuracy_score, classification_report, roc_auc_score\n",
    "from sklearn.ensemble import RandomForestClassifier\n",
    "from sklearn.preprocessing import LabelEncoder\n",
    "from sklearn.impute import SimpleImputer\n",
    "from sklearn.pipeline import Pipeline\n",
    "import joblib"
   ]
  },
  {
   "cell_type": "code",
   "execution_count": 5,
   "metadata": {},
   "outputs": [
    {
     "data": {
      "text/plain": [
       "'/Users/mahtablashgari/Desktop/GemeinsamRepository/Skin_cancer_diagnosis_tool/Notebooks'"
      ]
     },
     "execution_count": 5,
     "metadata": {},
     "output_type": "execute_result"
    }
   ],
   "source": [
    "os.getcwd()"
   ]
  },
  {
   "cell_type": "code",
   "execution_count": 7,
   "metadata": {},
   "outputs": [
    {
     "name": "stdout",
     "output_type": "stream",
     "text": [
      "/Users/mahtablashgari/Desktop/GemeinsamRepository/Skin_cancer_diagnosis_tool\n"
     ]
    },
    {
     "name": "stderr",
     "output_type": "stream",
     "text": [
      "/Users/mahtablashgari/Library/Python/3.12/lib/python/site-packages/IPython/core/magics/osm.py:417: UserWarning: This is now an optional IPython functionality, setting dhist requires you to install the `pickleshare` library.\n",
      "  self.shell.db['dhist'] = compress_dhist(dhist)[-100:]\n"
     ]
    }
   ],
   "source": [
    "cd .."
   ]
  },
  {
   "cell_type": "code",
   "execution_count": 9,
   "metadata": {},
   "outputs": [
    {
     "name": "stdout",
     "output_type": "stream",
     "text": [
      "/Users/mahtablashgari/Desktop/GemeinsamRepository/Skin_cancer_diagnosis_tool/Dataset/dataverse_files\n"
     ]
    },
    {
     "name": "stderr",
     "output_type": "stream",
     "text": [
      "/Users/mahtablashgari/Library/Python/3.12/lib/python/site-packages/IPython/core/magics/osm.py:417: UserWarning: This is now an optional IPython functionality, setting dhist requires you to install the `pickleshare` library.\n",
      "  self.shell.db['dhist'] = compress_dhist(dhist)[-100:]\n"
     ]
    }
   ],
   "source": [
    "cd Dataset/dataverse_files"
   ]
  },
  {
   "cell_type": "code",
   "execution_count": 21,
   "metadata": {},
   "outputs": [
    {
     "data": {
      "text/html": [
       "<div>\n",
       "<style scoped>\n",
       "    .dataframe tbody tr th:only-of-type {\n",
       "        vertical-align: middle;\n",
       "    }\n",
       "\n",
       "    .dataframe tbody tr th {\n",
       "        vertical-align: top;\n",
       "    }\n",
       "\n",
       "    .dataframe thead th {\n",
       "        text-align: right;\n",
       "    }\n",
       "</style>\n",
       "<table border=\"1\" class=\"dataframe\">\n",
       "  <thead>\n",
       "    <tr style=\"text-align: right;\">\n",
       "      <th></th>\n",
       "      <th>lesion_id</th>\n",
       "      <th>image_id</th>\n",
       "      <th>dx</th>\n",
       "      <th>dx_type</th>\n",
       "      <th>age</th>\n",
       "      <th>sex</th>\n",
       "      <th>localization</th>\n",
       "      <th>dataset</th>\n",
       "    </tr>\n",
       "  </thead>\n",
       "  <tbody>\n",
       "    <tr>\n",
       "      <th>0</th>\n",
       "      <td>HAM_0000118</td>\n",
       "      <td>ISIC_0027419</td>\n",
       "      <td>bkl</td>\n",
       "      <td>histo</td>\n",
       "      <td>80.0</td>\n",
       "      <td>male</td>\n",
       "      <td>scalp</td>\n",
       "      <td>vidir_modern</td>\n",
       "    </tr>\n",
       "    <tr>\n",
       "      <th>1</th>\n",
       "      <td>HAM_0000118</td>\n",
       "      <td>ISIC_0025030</td>\n",
       "      <td>bkl</td>\n",
       "      <td>histo</td>\n",
       "      <td>80.0</td>\n",
       "      <td>male</td>\n",
       "      <td>scalp</td>\n",
       "      <td>vidir_modern</td>\n",
       "    </tr>\n",
       "    <tr>\n",
       "      <th>2</th>\n",
       "      <td>HAM_0002730</td>\n",
       "      <td>ISIC_0026769</td>\n",
       "      <td>bkl</td>\n",
       "      <td>histo</td>\n",
       "      <td>80.0</td>\n",
       "      <td>male</td>\n",
       "      <td>scalp</td>\n",
       "      <td>vidir_modern</td>\n",
       "    </tr>\n",
       "    <tr>\n",
       "      <th>3</th>\n",
       "      <td>HAM_0002730</td>\n",
       "      <td>ISIC_0025661</td>\n",
       "      <td>bkl</td>\n",
       "      <td>histo</td>\n",
       "      <td>80.0</td>\n",
       "      <td>male</td>\n",
       "      <td>scalp</td>\n",
       "      <td>vidir_modern</td>\n",
       "    </tr>\n",
       "    <tr>\n",
       "      <th>4</th>\n",
       "      <td>HAM_0001466</td>\n",
       "      <td>ISIC_0031633</td>\n",
       "      <td>bkl</td>\n",
       "      <td>histo</td>\n",
       "      <td>75.0</td>\n",
       "      <td>male</td>\n",
       "      <td>ear</td>\n",
       "      <td>vidir_modern</td>\n",
       "    </tr>\n",
       "  </tbody>\n",
       "</table>\n",
       "</div>"
      ],
      "text/plain": [
       "     lesion_id      image_id   dx dx_type   age   sex localization  \\\n",
       "0  HAM_0000118  ISIC_0027419  bkl   histo  80.0  male        scalp   \n",
       "1  HAM_0000118  ISIC_0025030  bkl   histo  80.0  male        scalp   \n",
       "2  HAM_0002730  ISIC_0026769  bkl   histo  80.0  male        scalp   \n",
       "3  HAM_0002730  ISIC_0025661  bkl   histo  80.0  male        scalp   \n",
       "4  HAM_0001466  ISIC_0031633  bkl   histo  75.0  male          ear   \n",
       "\n",
       "        dataset  \n",
       "0  vidir_modern  \n",
       "1  vidir_modern  \n",
       "2  vidir_modern  \n",
       "3  vidir_modern  \n",
       "4  vidir_modern  "
      ]
     },
     "execution_count": 21,
     "metadata": {},
     "output_type": "execute_result"
    }
   ],
   "source": [
    "data = pd.read_csv('HAM10000_metadata.csv')\n",
    "data.head()"
   ]
  },
  {
   "cell_type": "code",
   "execution_count": 22,
   "metadata": {},
   "outputs": [
    {
     "data": {
      "text/html": [
       "<div>\n",
       "<style scoped>\n",
       "    .dataframe tbody tr th:only-of-type {\n",
       "        vertical-align: middle;\n",
       "    }\n",
       "\n",
       "    .dataframe tbody tr th {\n",
       "        vertical-align: top;\n",
       "    }\n",
       "\n",
       "    .dataframe thead th {\n",
       "        text-align: right;\n",
       "    }\n",
       "</style>\n",
       "<table border=\"1\" class=\"dataframe\">\n",
       "  <thead>\n",
       "    <tr style=\"text-align: right;\">\n",
       "      <th></th>\n",
       "      <th>lesion_id</th>\n",
       "      <th>image_id</th>\n",
       "      <th>dx</th>\n",
       "      <th>dx_type</th>\n",
       "      <th>age</th>\n",
       "      <th>sex</th>\n",
       "      <th>localization</th>\n",
       "      <th>dataset</th>\n",
       "      <th>Class</th>\n",
       "    </tr>\n",
       "  </thead>\n",
       "  <tbody>\n",
       "    <tr>\n",
       "      <th>0</th>\n",
       "      <td>HAM_0000118</td>\n",
       "      <td>ISIC_0027419</td>\n",
       "      <td>bkl</td>\n",
       "      <td>histo</td>\n",
       "      <td>80.0</td>\n",
       "      <td>male</td>\n",
       "      <td>scalp</td>\n",
       "      <td>vidir_modern</td>\n",
       "      <td>3</td>\n",
       "    </tr>\n",
       "    <tr>\n",
       "      <th>1</th>\n",
       "      <td>HAM_0000118</td>\n",
       "      <td>ISIC_0025030</td>\n",
       "      <td>bkl</td>\n",
       "      <td>histo</td>\n",
       "      <td>80.0</td>\n",
       "      <td>male</td>\n",
       "      <td>scalp</td>\n",
       "      <td>vidir_modern</td>\n",
       "      <td>3</td>\n",
       "    </tr>\n",
       "    <tr>\n",
       "      <th>2</th>\n",
       "      <td>HAM_0002730</td>\n",
       "      <td>ISIC_0026769</td>\n",
       "      <td>bkl</td>\n",
       "      <td>histo</td>\n",
       "      <td>80.0</td>\n",
       "      <td>male</td>\n",
       "      <td>scalp</td>\n",
       "      <td>vidir_modern</td>\n",
       "      <td>3</td>\n",
       "    </tr>\n",
       "    <tr>\n",
       "      <th>3</th>\n",
       "      <td>HAM_0002730</td>\n",
       "      <td>ISIC_0025661</td>\n",
       "      <td>bkl</td>\n",
       "      <td>histo</td>\n",
       "      <td>80.0</td>\n",
       "      <td>male</td>\n",
       "      <td>scalp</td>\n",
       "      <td>vidir_modern</td>\n",
       "      <td>3</td>\n",
       "    </tr>\n",
       "    <tr>\n",
       "      <th>4</th>\n",
       "      <td>HAM_0001466</td>\n",
       "      <td>ISIC_0031633</td>\n",
       "      <td>bkl</td>\n",
       "      <td>histo</td>\n",
       "      <td>75.0</td>\n",
       "      <td>male</td>\n",
       "      <td>ear</td>\n",
       "      <td>vidir_modern</td>\n",
       "      <td>3</td>\n",
       "    </tr>\n",
       "    <tr>\n",
       "      <th>...</th>\n",
       "      <td>...</td>\n",
       "      <td>...</td>\n",
       "      <td>...</td>\n",
       "      <td>...</td>\n",
       "      <td>...</td>\n",
       "      <td>...</td>\n",
       "      <td>...</td>\n",
       "      <td>...</td>\n",
       "      <td>...</td>\n",
       "    </tr>\n",
       "    <tr>\n",
       "      <th>10010</th>\n",
       "      <td>HAM_0002867</td>\n",
       "      <td>ISIC_0033084</td>\n",
       "      <td>akiec</td>\n",
       "      <td>histo</td>\n",
       "      <td>40.0</td>\n",
       "      <td>male</td>\n",
       "      <td>abdomen</td>\n",
       "      <td>vidir_modern</td>\n",
       "      <td>5</td>\n",
       "    </tr>\n",
       "    <tr>\n",
       "      <th>10011</th>\n",
       "      <td>HAM_0002867</td>\n",
       "      <td>ISIC_0033550</td>\n",
       "      <td>akiec</td>\n",
       "      <td>histo</td>\n",
       "      <td>40.0</td>\n",
       "      <td>male</td>\n",
       "      <td>abdomen</td>\n",
       "      <td>vidir_modern</td>\n",
       "      <td>5</td>\n",
       "    </tr>\n",
       "    <tr>\n",
       "      <th>10012</th>\n",
       "      <td>HAM_0002867</td>\n",
       "      <td>ISIC_0033536</td>\n",
       "      <td>akiec</td>\n",
       "      <td>histo</td>\n",
       "      <td>40.0</td>\n",
       "      <td>male</td>\n",
       "      <td>abdomen</td>\n",
       "      <td>vidir_modern</td>\n",
       "      <td>5</td>\n",
       "    </tr>\n",
       "    <tr>\n",
       "      <th>10013</th>\n",
       "      <td>HAM_0000239</td>\n",
       "      <td>ISIC_0032854</td>\n",
       "      <td>akiec</td>\n",
       "      <td>histo</td>\n",
       "      <td>80.0</td>\n",
       "      <td>male</td>\n",
       "      <td>face</td>\n",
       "      <td>vidir_modern</td>\n",
       "      <td>5</td>\n",
       "    </tr>\n",
       "    <tr>\n",
       "      <th>10014</th>\n",
       "      <td>HAM_0003521</td>\n",
       "      <td>ISIC_0032258</td>\n",
       "      <td>mel</td>\n",
       "      <td>histo</td>\n",
       "      <td>70.0</td>\n",
       "      <td>female</td>\n",
       "      <td>back</td>\n",
       "      <td>vidir_modern</td>\n",
       "      <td>6</td>\n",
       "    </tr>\n",
       "  </tbody>\n",
       "</table>\n",
       "<p>10015 rows × 9 columns</p>\n",
       "</div>"
      ],
      "text/plain": [
       "         lesion_id      image_id     dx dx_type   age     sex localization  \\\n",
       "0      HAM_0000118  ISIC_0027419    bkl   histo  80.0    male        scalp   \n",
       "1      HAM_0000118  ISIC_0025030    bkl   histo  80.0    male        scalp   \n",
       "2      HAM_0002730  ISIC_0026769    bkl   histo  80.0    male        scalp   \n",
       "3      HAM_0002730  ISIC_0025661    bkl   histo  80.0    male        scalp   \n",
       "4      HAM_0001466  ISIC_0031633    bkl   histo  75.0    male          ear   \n",
       "...            ...           ...    ...     ...   ...     ...          ...   \n",
       "10010  HAM_0002867  ISIC_0033084  akiec   histo  40.0    male      abdomen   \n",
       "10011  HAM_0002867  ISIC_0033550  akiec   histo  40.0    male      abdomen   \n",
       "10012  HAM_0002867  ISIC_0033536  akiec   histo  40.0    male      abdomen   \n",
       "10013  HAM_0000239  ISIC_0032854  akiec   histo  80.0    male         face   \n",
       "10014  HAM_0003521  ISIC_0032258    mel   histo  70.0  female         back   \n",
       "\n",
       "            dataset  Class  \n",
       "0      vidir_modern      3  \n",
       "1      vidir_modern      3  \n",
       "2      vidir_modern      3  \n",
       "3      vidir_modern      3  \n",
       "4      vidir_modern      3  \n",
       "...             ...    ...  \n",
       "10010  vidir_modern      5  \n",
       "10011  vidir_modern      5  \n",
       "10012  vidir_modern      5  \n",
       "10013  vidir_modern      5  \n",
       "10014  vidir_modern      6  \n",
       "\n",
       "[10015 rows x 9 columns]"
      ]
     },
     "execution_count": 22,
     "metadata": {},
     "output_type": "execute_result"
    }
   ],
   "source": [
    "#dx_classes = {'bkl':0, 'df':0, 'nv':0, 'vasc':0, 'akiec':1, 'bcc':1, 'mel':1}\n",
    "dx_classes = {'nv': 0 , 'mel': 6, 'bkl': 3, 'bcc': 4, 'vasc': 2, 'akiec':5, 'df':1}\n",
    "data['Class']= data['dx'].map(dx_classes)\n",
    "data\n"
   ]
  },
  {
   "cell_type": "code",
   "execution_count": 23,
   "metadata": {},
   "outputs": [
    {
     "data": {
      "text/plain": [
       "dx\n",
       "nv       6705\n",
       "mel      1113\n",
       "bkl      1099\n",
       "bcc       514\n",
       "akiec     327\n",
       "vasc      142\n",
       "df        115\n",
       "Name: count, dtype: int64"
      ]
     },
     "execution_count": 23,
     "metadata": {},
     "output_type": "execute_result"
    }
   ],
   "source": [
    "data['dx'].value_counts()"
   ]
  },
  {
   "cell_type": "code",
   "execution_count": 24,
   "metadata": {},
   "outputs": [
    {
     "data": {
      "text/html": [
       "<div>\n",
       "<style scoped>\n",
       "    .dataframe tbody tr th:only-of-type {\n",
       "        vertical-align: middle;\n",
       "    }\n",
       "\n",
       "    .dataframe tbody tr th {\n",
       "        vertical-align: top;\n",
       "    }\n",
       "\n",
       "    .dataframe thead th {\n",
       "        text-align: right;\n",
       "    }\n",
       "</style>\n",
       "<table border=\"1\" class=\"dataframe\">\n",
       "  <thead>\n",
       "    <tr style=\"text-align: right;\">\n",
       "      <th></th>\n",
       "      <th>dx</th>\n",
       "      <th>count</th>\n",
       "    </tr>\n",
       "  </thead>\n",
       "  <tbody>\n",
       "    <tr>\n",
       "      <th>0</th>\n",
       "      <td>nv</td>\n",
       "      <td>6705</td>\n",
       "    </tr>\n",
       "    <tr>\n",
       "      <th>1</th>\n",
       "      <td>mel</td>\n",
       "      <td>1113</td>\n",
       "    </tr>\n",
       "    <tr>\n",
       "      <th>2</th>\n",
       "      <td>bkl</td>\n",
       "      <td>1099</td>\n",
       "    </tr>\n",
       "    <tr>\n",
       "      <th>3</th>\n",
       "      <td>bcc</td>\n",
       "      <td>514</td>\n",
       "    </tr>\n",
       "    <tr>\n",
       "      <th>4</th>\n",
       "      <td>akiec</td>\n",
       "      <td>327</td>\n",
       "    </tr>\n",
       "    <tr>\n",
       "      <th>5</th>\n",
       "      <td>vasc</td>\n",
       "      <td>142</td>\n",
       "    </tr>\n",
       "    <tr>\n",
       "      <th>6</th>\n",
       "      <td>df</td>\n",
       "      <td>115</td>\n",
       "    </tr>\n",
       "  </tbody>\n",
       "</table>\n",
       "</div>"
      ],
      "text/plain": [
       "      dx  count\n",
       "0     nv   6705\n",
       "1    mel   1113\n",
       "2    bkl   1099\n",
       "3    bcc    514\n",
       "4  akiec    327\n",
       "5   vasc    142\n",
       "6     df    115"
      ]
     },
     "execution_count": 24,
     "metadata": {},
     "output_type": "execute_result"
    }
   ],
   "source": [
    "counts = pd.DataFrame(data['dx'].value_counts()).reset_index()\n",
    "counts"
   ]
  },
  {
   "cell_type": "code",
   "execution_count": 25,
   "metadata": {},
   "outputs": [
    {
     "name": "stdout",
     "output_type": "stream",
     "text": [
      "<class 'pandas.core.frame.DataFrame'>\n",
      "RangeIndex: 10015 entries, 0 to 10014\n",
      "Data columns (total 9 columns):\n",
      " #   Column        Non-Null Count  Dtype  \n",
      "---  ------        --------------  -----  \n",
      " 0   lesion_id     10015 non-null  object \n",
      " 1   image_id      10015 non-null  object \n",
      " 2   dx            10015 non-null  object \n",
      " 3   dx_type       10015 non-null  object \n",
      " 4   age           9958 non-null   float64\n",
      " 5   sex           10015 non-null  object \n",
      " 6   localization  10015 non-null  object \n",
      " 7   dataset       10015 non-null  object \n",
      " 8   Class         10015 non-null  int64  \n",
      "dtypes: float64(1), int64(1), object(7)\n",
      "memory usage: 704.3+ KB\n"
     ]
    }
   ],
   "source": [
    "data.info()"
   ]
  },
  {
   "cell_type": "code",
   "execution_count": 26,
   "metadata": {},
   "outputs": [
    {
     "name": "stdout",
     "output_type": "stream",
     "text": [
      "Genauigkeit: 0.7059410883674488\n",
      "Klassifikationsbericht:\n",
      "              precision    recall  f1-score   support\n",
      "\n",
      "           0       0.76      0.97      0.85      1338\n",
      "           1       0.00      0.00      0.00        28\n",
      "           2       1.00      0.05      0.09        21\n",
      "           3       0.44      0.33      0.38       228\n",
      "           4       0.30      0.09      0.13        93\n",
      "           5       0.25      0.09      0.13        69\n",
      "           6       0.34      0.10      0.16       226\n",
      "\n",
      "    accuracy                           0.71      2003\n",
      "   macro avg       0.44      0.23      0.25      2003\n",
      "weighted avg       0.63      0.71      0.64      2003\n",
      "\n",
      "Vorhersagewahrscheinlichkeiten für die ersten 5 Beispiele:\n",
      "[[0.         0.         0.         0.37865315 0.21771033 0.11675797\n",
      "  0.28687855]\n",
      " [0.87753324 0.01096401 0.         0.01004333 0.01208969 0.\n",
      "  0.08936974]\n",
      " [0.477528   0.         0.         0.11464392 0.07939528 0.01676595\n",
      "  0.31166684]\n",
      " [0.9249331  0.         0.03755863 0.01839865 0.         0.\n",
      "  0.01910963]\n",
      " [0.89125617 0.03786799 0.         0.03644638 0.02377482 0.\n",
      "  0.01065463]]\n"
     ]
    },
    {
     "name": "stderr",
     "output_type": "stream",
     "text": [
      "/Library/Frameworks/Python.framework/Versions/3.12/lib/python3.12/site-packages/sklearn/metrics/_classification.py:1531: UndefinedMetricWarning: Precision is ill-defined and being set to 0.0 in labels with no predicted samples. Use `zero_division` parameter to control this behavior.\n",
      "  _warn_prf(average, modifier, f\"{metric.capitalize()} is\", len(result))\n",
      "/Library/Frameworks/Python.framework/Versions/3.12/lib/python3.12/site-packages/sklearn/metrics/_classification.py:1531: UndefinedMetricWarning: Precision is ill-defined and being set to 0.0 in labels with no predicted samples. Use `zero_division` parameter to control this behavior.\n",
      "  _warn_prf(average, modifier, f\"{metric.capitalize()} is\", len(result))\n",
      "/Library/Frameworks/Python.framework/Versions/3.12/lib/python3.12/site-packages/sklearn/metrics/_classification.py:1531: UndefinedMetricWarning: Precision is ill-defined and being set to 0.0 in labels with no predicted samples. Use `zero_division` parameter to control this behavior.\n",
      "  _warn_prf(average, modifier, f\"{metric.capitalize()} is\", len(result))\n"
     ]
    }
   ],
   "source": [
    "#ohne oversampling:\n",
    "imputer = SimpleImputer(strategy='mean')\n",
    "data['age'] = imputer.fit_transform(data[['age']])\n",
    "\n",
    "label_encoder_sex = LabelEncoder()\n",
    "data['sex'] = label_encoder_sex.fit_transform(data['sex'])\n",
    "\n",
    "label_encoder_localization = LabelEncoder()\n",
    "data['localization'] = label_encoder_localization.fit_transform(data['localization'])\n",
    "\n",
    "X = data[['age', 'sex', 'localization']]  \n",
    "y = data['Class']\n",
    "\n",
    "X_train, X_test, y_train, y_test = train_test_split(X, y, test_size=0.2, random_state=42)\n",
    "\n",
    "model_RF_ohneOverSampling = RandomForestClassifier(random_state=42)\n",
    "model_RF_ohneOverSampling.fit(X_train, y_train)\n",
    "\n",
    "y_pred = model_RF_ohneOverSampling.predict(X_test)\n",
    "y_pred_proba = model_RF_ohneOverSampling.predict_proba(X_test)\n",
    "\n",
    "# Auswertung\n",
    "print(\"Accuracy:\", accuracy_score(y_test, y_pred))\n",
    "print(\"classifikation report:\")\n",
    "print(classification_report(y_test, y_pred))\n",
    "\n",
    "print(\"Vorhersagewahrscheinlichkeiten für die ersten 5 Beispiele:\")\n",
    "print(y_pred_proba[:5])\n"
   ]
  },
  {
   "cell_type": "code",
   "execution_count": 27,
   "metadata": {},
   "outputs": [
    {
     "name": "stdout",
     "output_type": "stream",
     "text": [
      "ROC-AUC-Score: 0.8288085038901901\n"
     ]
    }
   ],
   "source": [
    "\n",
    "from sklearn.preprocessing import label_binarize\n",
    "from sklearn.metrics import roc_auc_score\n",
    "\n",
    "\n",
    "y_test_binarized = label_binarize(y_test, classes=[0, 1, 2, 3, 4, 5, 6])\n",
    "\n",
    "roc_auc = roc_auc_score(y_test_binarized, y_pred_proba, multi_class=\"ovr\")\n",
    "print(f\"ROC-AUC-Score: {roc_auc}\")"
   ]
  },
  {
   "cell_type": "code",
   "execution_count": 28,
   "metadata": {},
   "outputs": [
    {
     "name": "stdout",
     "output_type": "stream",
     "text": [
      "Modell erfolgreich gespeichert!\n"
     ]
    }
   ],
   "source": [
    "joblib.dump(model_RF_ohneOverSampling, 'random_forest_model_ohneOversampling.pkl')\n",
    "print(\"Modell erfolgreich gespeichert!\")"
   ]
  },
  {
   "cell_type": "code",
   "execution_count": 65,
   "metadata": {},
   "outputs": [
    {
     "name": "stdout",
     "output_type": "stream",
     "text": [
      "Genauigkeit: 0.33349975037443835\n",
      "Klassifikationsbericht:\n",
      "              precision    recall  f1-score   support\n",
      "\n",
      "           0       0.92      0.36      0.52      1338\n",
      "           1       0.04      0.57      0.08        28\n",
      "           2       0.04      0.62      0.07        21\n",
      "           3       0.32      0.19      0.24       228\n",
      "           4       0.14      0.40      0.21        93\n",
      "           5       0.17      0.51      0.25        69\n",
      "           6       0.22      0.16      0.19       226\n",
      "\n",
      "    accuracy                           0.33      2003\n",
      "   macro avg       0.26      0.40      0.22      2003\n",
      "weighted avg       0.69      0.33      0.42      2003\n",
      "\n",
      "ROC-AUC-Score: 0.791708619545466\n",
      "      Tatsächlicher Wert  Vorhergesagter Wert  Wahrscheinlichkeit Klasse 0  \\\n",
      "1617                   6                    4                     0.000000   \n",
      "8128                   0                    0                     0.376188   \n",
      "2168                   6                    6                     0.108812   \n",
      "1090                   3                    2                     0.333945   \n",
      "7754                   0                    1                     0.257915   \n",
      "8071                   0                    2                     0.390185   \n",
      "7423                   0                    1                     0.161089   \n",
      "8984                   0                    1                     0.099862   \n",
      "2310                   6                    4                     0.000000   \n",
      "7256                   0                    6                     0.108812   \n",
      "\n",
      "      Wahrscheinlichkeit Klasse 1  Wahrscheinlichkeit Klasse 2  \\\n",
      "1617                     0.000000                     0.000000   \n",
      "8128                     0.271370                     0.000000   \n",
      "2168                     0.000000                     0.000000   \n",
      "1090                     0.000000                     0.580361   \n",
      "7754                     0.589182                     0.000000   \n",
      "8071                     0.000000                     0.516315   \n",
      "7423                     0.642209                     0.000000   \n",
      "8984                     0.434400                     0.231284   \n",
      "2310                     0.000000                     0.000000   \n",
      "7256                     0.000000                     0.000000   \n",
      "\n",
      "      Wahrscheinlichkeit Klasse 3  Wahrscheinlichkeit Klasse 4  \\\n",
      "1617                     0.254567                     0.330181   \n",
      "8128                     0.028005                     0.050448   \n",
      "2168                     0.142362                     0.262126   \n",
      "1090                     0.033319                     0.000000   \n",
      "7754                     0.065377                     0.080696   \n",
      "8071                     0.093500                     0.000000   \n",
      "7423                     0.018350                     0.057355   \n",
      "8984                     0.013286                     0.000000   \n",
      "2310                     0.254567                     0.330181   \n",
      "7256                     0.142362                     0.262126   \n",
      "\n",
      "      Wahrscheinlichkeit Klasse 5  Wahrscheinlichkeit Klasse 6  \n",
      "1617                     0.235414                     0.179838  \n",
      "8128                     0.000000                     0.273989  \n",
      "2168                     0.092454                     0.394247  \n",
      "1090                     0.000000                     0.052375  \n",
      "7754                     0.000000                     0.006830  \n",
      "8071                     0.000000                     0.000000  \n",
      "7423                     0.000000                     0.120997  \n",
      "8984                     0.115304                     0.105865  \n",
      "2310                     0.235414                     0.179838  \n",
      "7256                     0.092454                     0.394247  \n"
     ]
    }
   ],
   "source": [
    "#mit oversampling\n",
    "imputer = SimpleImputer(strategy='mean')\n",
    "data['age'] = imputer.fit_transform(data[['age']])\n",
    "\n",
    "\n",
    "label_encoder_sex = LabelEncoder()\n",
    "data['sex'] = label_encoder_sex.fit_transform(data['sex'])\n",
    "\n",
    "label_encoder_localization = LabelEncoder()\n",
    "data['localization'] = label_encoder_localization.fit_transform(data['localization'])\n",
    "\n",
    "X = data[['age', 'sex', 'localization']] \n",
    "y = data['Class']\n",
    "\n",
    "\n",
    "X_train, X_test, y_train, y_test = train_test_split(X, y, test_size=0.2, random_state=42)\n",
    "\n",
    "# Oversampling \n",
    "oversample = RandomOverSampler(random_state=42)\n",
    "X_train_resampled, y_train_resampled = oversample.fit_resample(X_train, y_train)\n",
    "\n",
    "model_RF_OverSampling = RandomForestClassifier(random_state=42)\n",
    "model_RF_OverSampling.fit(X_train_resampled, y_train_resampled)\n",
    "\n",
    "y_pred = model_RF_OverSampling.predict(X_test)\n",
    "y_pred_proba = model_RF_OverSampling.predict_proba(X_test)\n",
    "\n",
    "print(\"Genauigkeit:\", accuracy_score(y_test, y_pred))\n",
    "print(\"Klassifikationsbericht:\")\n",
    "print(classification_report(y_test, y_pred))\n",
    "\n",
    "y_test_binarized = label_binarize(y_test, classes=[0, 1, 2, 3, 4, 5, 6])\n",
    "\n",
    "# ROC-AUC-Score für jede Klasse berechnen (One-vs-Rest)\n",
    "roc_auc = roc_auc_score(y_test_binarized, y_pred_proba, multi_class=\"ovr\")\n",
    "print(f\"ROC-AUC-Score: {roc_auc}\")\n",
    "\n",
    "vergleich = pd.DataFrame({\n",
    "    'Tatsächlicher Wert': y_test,\n",
    "    'Vorhergesagter Wert': y_pred\n",
    "})\n",
    "\n",
    "for i in range(len(y_test_binarized[0])):\n",
    "    vergleich[f'Wahrscheinlichkeit Klasse {i}'] = y_pred_proba[:, i]\n",
    "\n",
    "# Die ersten 10 Vergleiche anzeigen\n",
    "print(vergleich.head(10))\n"
   ]
  },
  {
   "cell_type": "code",
   "execution_count": 67,
   "metadata": {},
   "outputs": [
    {
     "name": "stdout",
     "output_type": "stream",
     "text": [
      "Modell erfolgreich gespeichert!\n"
     ]
    }
   ],
   "source": [
    "joblib.dump(model_RF_OverSampling, 'random_forest_model_Oversampling.pkl')\n",
    "print(\"Modell erfolgreich gespeichert!\")"
   ]
  }
 ],
 "metadata": {
  "kernelspec": {
   "display_name": "Python 3",
   "language": "python",
   "name": "python3"
  },
  "language_info": {
   "codemirror_mode": {
    "name": "ipython",
    "version": 3
   },
   "file_extension": ".py",
   "mimetype": "text/x-python",
   "name": "python",
   "nbconvert_exporter": "python",
   "pygments_lexer": "ipython3",
   "version": "3.12.4"
  },
  "orig_nbformat": 4
 },
 "nbformat": 4,
 "nbformat_minor": 2
}
