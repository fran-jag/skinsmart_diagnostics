{
 "cells": [
  {
   "cell_type": "code",
   "execution_count": 200,
   "metadata": {},
   "outputs": [],
   "source": [
    "import pandas as pd\n",
    "from imblearn.over_sampling import RandomOverSampler\n",
    "import matplotlib.pyplot as plt\n",
    "import seaborn as sns\n",
    "import os\n",
    "import joblib\n",
    "from sklearn.impute import SimpleImputer\n",
    "from sklearn.preprocessing import LabelEncoder, label_binarize\n",
    "from sklearn.model_selection import train_test_split\n",
    "from sklearn.ensemble import RandomForestClassifier\n",
    "from sklearn.ensemble import GradientBoostingClassifier\n",
    "from sklearn.svm import SVC\n",
    "from sklearn.neighbors import KNeighborsClassifier\n",
    "from sklearn.metrics import accuracy_score, classification_report, roc_auc_score"
   ]
  },
  {
   "cell_type": "code",
   "execution_count": 201,
   "metadata": {},
   "outputs": [
    {
     "data": {
      "text/plain": [
       "'/Users/mahtablashgari/Desktop/GemeinsamRepository/Skin_cancer_diagnosis_tool/Dataset/dataverse_files'"
      ]
     },
     "execution_count": 201,
     "metadata": {},
     "output_type": "execute_result"
    }
   ],
   "source": [
    "os.getcwd()"
   ]
  },
  {
   "cell_type": "code",
   "execution_count": 202,
   "metadata": {},
   "outputs": [
    {
     "name": "stdout",
     "output_type": "stream",
     "text": [
      "missing value:\n",
      "lesion_id        0\n",
      "image_id         0\n",
      "dx               0\n",
      "dx_type          0\n",
      "age             57\n",
      "sex              0\n",
      "localization     0\n",
      "dataset          0\n",
      "dtype: int64\n"
     ]
    }
   ],
   "source": [
    "data = pd.read_csv('HAM10000_metadata.csv')\n",
    "print(\"missing value:\")\n",
    "print(data.isna().sum()) "
   ]
  },
  {
   "cell_type": "code",
   "execution_count": 203,
   "metadata": {},
   "outputs": [],
   "source": [
    "imputer = SimpleImputer(strategy='mean')\n",
    "data['age'] = imputer.fit_transform(data[['age']])\n",
    "\n",
    "label_encoder_sex = LabelEncoder()\n",
    "data['sex'] = label_encoder_sex.fit_transform(data['sex'])\n",
    "\n",
    "label_encoder_localization = LabelEncoder()\n",
    "data['localization'] = label_encoder_localization.fit_transform(data['localization'])\n",
    "\n",
    "dx_classes = {'nv': 0 , 'mel': 6, 'bkl': 3, 'bcc': 4, 'vasc': 2, 'akiec': 5, 'df': 1}\n",
    "data['Class'] = data['dx'].map(dx_classes)\n",
    "\n",
    "X = data[['age', 'sex', 'localization']]\n",
    "y = data['Class']\n"
   ]
  },
  {
   "cell_type": "code",
   "execution_count": 204,
   "metadata": {},
   "outputs": [
    {
     "data": {
      "text/plain": [
       "Class\n",
       "0    6705\n",
       "6    1113\n",
       "3    1099\n",
       "4     514\n",
       "5     327\n",
       "2     142\n",
       "1     115\n",
       "Name: count, dtype: int64"
      ]
     },
     "execution_count": 204,
     "metadata": {},
     "output_type": "execute_result"
    }
   ],
   "source": [
    "data['Class'].value_counts()"
   ]
  },
  {
   "cell_type": "code",
   "execution_count": 205,
   "metadata": {},
   "outputs": [
    {
     "name": "stdout",
     "output_type": "stream",
     "text": [
      "\n",
      "Modell: RF\n",
      "Genauigkeit: 0.4073889166250624\n",
      "Klassifikationsbericht:\n",
      "              precision    recall  f1-score   support\n",
      "\n",
      "           0       0.92      0.48      0.63      1341\n",
      "           1       0.04      0.61      0.08        23\n",
      "           2       0.05      0.39      0.09        28\n",
      "           3       0.29      0.19      0.23       220\n",
      "           4       0.15      0.34      0.21       103\n",
      "           5       0.13      0.38      0.19        65\n",
      "           6       0.20      0.18      0.19       223\n",
      "\n",
      "    accuracy                           0.41      2003\n",
      "   macro avg       0.26      0.37      0.23      2003\n",
      "weighted avg       0.68      0.41      0.49      2003\n",
      "\n",
      "ROC-AUC-Score: 0.7926640891664866\n",
      "\n",
      "Modell: Gradient Boosting\n",
      "Genauigkeit: 0.4038941587618572\n",
      "Klassifikationsbericht:\n",
      "              precision    recall  f1-score   support\n",
      "\n",
      "           0       0.90      0.49      0.64      1341\n",
      "           1       0.04      0.70      0.07        23\n",
      "           2       0.05      0.36      0.09        28\n",
      "           3       0.27      0.13      0.18       220\n",
      "           4       0.20      0.42      0.27       103\n",
      "           5       0.12      0.31      0.17        65\n",
      "           6       0.20      0.14      0.16       223\n",
      "\n",
      "    accuracy                           0.40      2003\n",
      "   macro avg       0.25      0.36      0.23      2003\n",
      "weighted avg       0.67      0.40      0.48      2003\n",
      "\n",
      "ROC-AUC-Score: 0.7918683844206097\n",
      "\n",
      "Modell: SVM\n",
      "Genauigkeit: 0.3160259610584124\n",
      "Klassifikationsbericht:\n",
      "              precision    recall  f1-score   support\n",
      "\n",
      "           0       0.83      0.39      0.53      1341\n",
      "           1       0.02      0.70      0.04        23\n",
      "           2       0.05      0.18      0.08        28\n",
      "           3       0.26      0.06      0.10       220\n",
      "           4       0.18      0.43      0.25       103\n",
      "           5       0.12      0.43      0.18        65\n",
      "           6       0.00      0.00      0.00       223\n",
      "\n",
      "    accuracy                           0.32      2003\n",
      "   macro avg       0.21      0.31      0.17      2003\n",
      "weighted avg       0.60      0.32      0.39      2003\n",
      "\n",
      "ROC-AUC-Score: 0.7058060629738755\n",
      "\n",
      "Modell: KNN\n",
      "Genauigkeit: 0.6774837743384923\n",
      "Klassifikationsbericht:\n",
      "              precision    recall  f1-score   support\n",
      "\n",
      "           0       0.79      0.91      0.85      1341\n",
      "           1       0.00      0.00      0.00        23\n",
      "           2       0.17      0.18      0.17        28\n",
      "           3       0.39      0.36      0.38       220\n",
      "           4       0.21      0.15      0.17       103\n",
      "           5       0.21      0.09      0.13        65\n",
      "           6       0.27      0.13      0.17       223\n",
      "\n",
      "    accuracy                           0.68      2003\n",
      "   macro avg       0.29      0.26      0.27      2003\n",
      "weighted avg       0.62      0.68      0.64      2003\n",
      "\n",
      "ROC-AUC-Score: 0.6970411214611741\n"
     ]
    }
   ],
   "source": [
    "from imblearn.over_sampling import SMOTE\n",
    "from sklearn.model_selection import train_test_split\n",
    "from sklearn.ensemble import RandomForestClassifier, GradientBoostingClassifier\n",
    "from sklearn.svm import SVC\n",
    "from sklearn.neighbors import KNeighborsClassifier\n",
    "from sklearn.metrics import accuracy_score, roc_auc_score, classification_report\n",
    "from sklearn.preprocessing import LabelEncoder, label_binarize\n",
    "import pandas as pd\n",
    "from sklearn.impute import SimpleImputer\n",
    "\n",
    "imputer = SimpleImputer(strategy='mean')\n",
    "data['age'] = imputer.fit_transform(data[['age']])\n",
    "\n",
    "label_encoder_sex = LabelEncoder()\n",
    "data['sex'] = label_encoder_sex.fit_transform(data['sex'])\n",
    "\n",
    "label_encoder_localization = LabelEncoder()\n",
    "data['localization'] = label_encoder_localization.fit_transform(data['localization'])\n",
    "\n",
    "dx_classes = {'nv': 0, 'mel': 6, 'bkl': 3, 'bcc': 4, 'vasc': 2, 'akiec': 5, 'df': 1}\n",
    "data['Class'] = data['dx'].map(dx_classes)\n",
    "\n",
    "X = data[['age', 'sex', 'localization']]\n",
    "y = data['Class']\n",
    "\n",
    "X_train, X_test, y_train, y_test = train_test_split(X, y, test_size=0.2, random_state=42, stratify=y)\n",
    "\n",
    "smote = SMOTE(random_state=42)\n",
    "X_train_resampled, y_train_resampled = smote.fit_resample(X_train, y_train)\n",
    "\n",
    "# Modell 1: Random Forest\n",
    "model_RF = RandomForestClassifier(random_state=42)\n",
    "model_RF.fit(X_train_resampled, y_train_resampled)\n",
    "y_pred_RF = model_RF.predict(X_test)\n",
    "y_pred_proba_RF = model_RF.predict_proba(X_test)\n",
    "\n",
    "# Modell 2: Gradient Boosting\n",
    "model_GB = GradientBoostingClassifier(random_state=42)\n",
    "model_GB.fit(X_train_resampled, y_train_resampled)\n",
    "y_pred_GB = model_GB.predict(X_test)\n",
    "y_pred_proba_GB = model_GB.predict_proba(X_test)\n",
    "\n",
    "# Modell 3: Support Vector Machine (SVM)\n",
    "model_SVM = SVC(probability=True, random_state=42)\n",
    "model_SVM.fit(X_train_resampled, y_train_resampled)\n",
    "y_pred_SVM = model_SVM.predict(X_test)\n",
    "y_pred_proba_SVM = model_SVM.predict_proba(X_test)\n",
    "\n",
    "# Modell 4: K-Nearest Neighbors (KNN)\n",
    "model_KNN = KNeighborsClassifier()\n",
    "model_KNN.fit(X_train_resampled, y_train_resampled)\n",
    "y_pred_KNN = model_KNN.predict(X_test)\n",
    "y_pred_proba_KNN = model_KNN.predict_proba(X_test)\n",
    "\n",
    "models = {\n",
    "    \"RF\": (y_pred_RF, y_pred_proba_RF),\n",
    "    \"Gradient Boosting\": (y_pred_GB, y_pred_proba_GB),\n",
    "    \"SVM\": (y_pred_SVM, y_pred_proba_SVM),\n",
    "    \"KNN\": (y_pred_KNN, y_pred_proba_KNN)\n",
    "}\n",
    "\n",
    "# Binarisierung der Zielvariable für ROC-AUC\n",
    "y_test_binarized = label_binarize(y_test, classes=[0, 1, 2, 3, 4, 5, 6])\n",
    "\n",
    "for model_name, (y_pred, y_pred_proba) in models.items():\n",
    "    print(f\"\\nModell: {model_name}\")\n",
    "    print(\"Accuracy:\", accuracy_score(y_test, y_pred))\n",
    "    print(\"Classifikation report:\")\n",
    "    print(classification_report(y_test, y_pred))\n",
    "    roc_auc = roc_auc_score(y_test_binarized, y_pred_proba, multi_class=\"ovr\")\n",
    "    print(f\"ROC-AUC-Score: {roc_auc}\")\n"
   ]
  },
  {
   "cell_type": "code",
   "execution_count": 206,
   "metadata": {},
   "outputs": [
    {
     "data": {
      "text/plain": [
       "['new_model_KNN.pkl']"
      ]
     },
     "execution_count": 206,
     "metadata": {},
     "output_type": "execute_result"
    }
   ],
   "source": [
    "joblib.dump(model_RF, 'new_model_RF.pkl')\n",
    "joblib.dump(model_GB, 'new_model_GB.pkl')\n",
    "joblib.dump(model_SVM, 'new_model_SVM.pkl')\n",
    "joblib.dump(model_KNN, 'new_model_KNN.pkl')"
   ]
  },
  {
   "cell_type": "code",
   "execution_count": 190,
   "metadata": {},
   "outputs": [
    {
     "name": "stdout",
     "output_type": "stream",
     "text": [
      "Random Forest Modelltyp: <class 'sklearn.ensemble._forest.RandomForestClassifier'>\n"
     ]
    }
   ],
   "source": [
    "import pandas as pd\n",
    "import joblib\n",
    "from sklearn.metrics import accuracy_score, roc_auc_score, classification_report\n",
    "from sklearn.preprocessing import label_binarize\n",
    "\n",
    "# 1. Laden der AIM-Daten\n",
    "aim_data = pd.read_csv('ISIC2018_Task3_Test_GroundTruth.csv')\n",
    "\n",
    " #2. Laden des Modells\n",
    "loaded_model_RF = joblib.load('new_model_RF.pkl')\n",
    "print(f\"Random Forest Modelltyp: {type(loaded_model_RF)}\")\n",
    "\n"
   ]
  },
  {
   "cell_type": "code",
   "execution_count": 191,
   "metadata": {},
   "outputs": [
    {
     "name": "stdout",
     "output_type": "stream",
     "text": [
      "Überprüfen auf fehlende Werte:\n",
      "lesion_id         0\n",
      "image_id          0\n",
      "dx                0\n",
      "dx_type           0\n",
      "age             282\n",
      "sex               1\n",
      "localization      1\n",
      "dataset           1\n",
      "dtype: int64\n"
     ]
    }
   ],
   "source": [
    "print(\"Überprüfen auf fehlende Werte:\")\n",
    "print(aim_data.isna().sum())"
   ]
  },
  {
   "cell_type": "code",
   "execution_count": 192,
   "metadata": {},
   "outputs": [
    {
     "name": "stdout",
     "output_type": "stream",
     "text": [
      "<class 'pandas.core.frame.DataFrame'>\n",
      "RangeIndex: 1512 entries, 0 to 1511\n",
      "Data columns (total 8 columns):\n",
      " #   Column        Non-Null Count  Dtype  \n",
      "---  ------        --------------  -----  \n",
      " 0   lesion_id     1512 non-null   object \n",
      " 1   image_id      1512 non-null   object \n",
      " 2   dx            1512 non-null   object \n",
      " 3   dx_type       1512 non-null   object \n",
      " 4   age           1230 non-null   float64\n",
      " 5   sex           1511 non-null   object \n",
      " 6   localization  1511 non-null   object \n",
      " 7   dataset       1511 non-null   object \n",
      "dtypes: float64(1), object(7)\n",
      "memory usage: 94.6+ KB\n"
     ]
    }
   ],
   "source": [
    "aim_data.info()"
   ]
  },
  {
   "cell_type": "code",
   "execution_count": 193,
   "metadata": {},
   "outputs": [],
   "source": [
    "aim_data = aim_data.dropna()"
   ]
  },
  {
   "cell_type": "code",
   "execution_count": 194,
   "metadata": {},
   "outputs": [],
   "source": [
    "\n",
    "aim_data['age'] = imputer.transform(aim_data[['age']])\n",
    "aim_data['sex'] = label_encoder_sex.transform(aim_data['sex'])\n",
    "aim_data['localization'] = label_encoder_localization.transform(aim_data['localization'])\n",
    "\n",
    "dx_classes = {'nv': 0 , 'mel': 6, 'bkl': 3, 'bcc': 4, 'vasc': 2, 'akiec': 5, 'df': 1}\n",
    "aim_data['Class'] = aim_data['dx'].map(dx_classes)\n"
   ]
  },
  {
   "cell_type": "code",
   "execution_count": 199,
   "metadata": {},
   "outputs": [
    {
     "data": {
      "text/plain": [
       "Class\n",
       "0    796\n",
       "6    152\n",
       "3    141\n",
       "4     64\n",
       "5     40\n",
       "2     19\n",
       "1     18\n",
       "Name: count, dtype: int64"
      ]
     },
     "execution_count": 199,
     "metadata": {},
     "output_type": "execute_result"
    }
   ],
   "source": [
    "aim_data['Class'].value_counts()"
   ]
  },
  {
   "cell_type": "code",
   "execution_count": 197,
   "metadata": {},
   "outputs": [
    {
     "name": "stdout",
     "output_type": "stream",
     "text": [
      "Accuracy on AIM-Data: 0.38130081300813007\n",
      "ROC-AUC on AIM-Data: 0.6961136334791184\n",
      "Classification Report on AIM-Data:\n",
      "              precision    recall  f1-score   support\n",
      "\n",
      "           0       0.88      0.46      0.60       796\n",
      "           1       0.05      0.56      0.09        18\n",
      "           2       0.04      0.26      0.08        19\n",
      "           3       0.19      0.11      0.14       141\n",
      "           4       0.10      0.25      0.15        64\n",
      "           5       0.15      0.42      0.23        40\n",
      "           6       0.26      0.26      0.26       152\n",
      "\n",
      "    accuracy                           0.38      1230\n",
      "   macro avg       0.24      0.33      0.22      1230\n",
      "weighted avg       0.63      0.38      0.46      1230\n",
      "\n",
      "    Tatsächlicher Wert  Vorhergesagter Wert\n",
      "0                    0                    0\n",
      "1                    0                    6\n",
      "2                    3                    4\n",
      "3                    0                    0\n",
      "4                    0                    3\n",
      "6                    0                    0\n",
      "7                    3                    4\n",
      "8                    0                    6\n",
      "9                    0                    0\n",
      "10                   0                    0\n",
      "12                   5                    5\n",
      "13                   0                    2\n",
      "14                   5                    3\n",
      "15                   3                    4\n",
      "17                   0                    1\n",
      "19                   0                    0\n",
      "20                   0                    0\n",
      "21                   4                    1\n",
      "22                   3                    4\n",
      "23                   3                    3\n",
      "24                   6                    5\n",
      "26                   0                    0\n",
      "27                   0                    5\n",
      "28                   0                    0\n",
      "29                   4                    3\n",
      "30                   2                    2\n",
      "31                   0                    0\n",
      "32                   0                    1\n",
      "33                   0                    2\n",
      "34                   0                    4\n",
      "35                   0                    1\n",
      "36                   3                    4\n",
      "37                   0                    1\n",
      "38                   0                    6\n",
      "39                   0                    2\n",
      "40                   4                    6\n",
      "41                   0                    1\n",
      "42                   0                    6\n",
      "43                   0                    5\n",
      "45                   3                    1\n",
      "47                   6                    0\n",
      "49                   3                    4\n",
      "51                   0                    0\n",
      "52                   0                    1\n",
      "53                   3                    4\n",
      "54                   5                    3\n",
      "55                   0                    0\n",
      "56                   0                    0\n",
      "57                   0                    6\n",
      "58                   0                    0\n"
     ]
    }
   ],
   "source": [
    "\n",
    "\n",
    "X_aim = aim_data[['age', 'sex', 'localization']]\n",
    "y_aim = aim_data['Class']\n",
    "\n",
    "y_aim_pred = loaded_model_RF.predict(X_aim)\n",
    "y_aim_pred_proba = loaded_model_RF.predict_proba(X_aim)\n",
    "\n",
    "accuracy = accuracy_score(y_aim, y_aim_pred)\n",
    "print(f\"Accuracy on AIM-Data: {accuracy}\")\n",
    "\n",
    "# ROC-AUC für Mehrklassenberechnung\n",
    "y_aim_binarized = label_binarize(y_aim, classes=[0, 1, 2, 3, 4, 5, 6])\n",
    "roc_auc = roc_auc_score(y_aim_binarized, y_aim_pred_proba, multi_class=\"ovr\")\n",
    "print(f\"ROC-AUC on AIM-Data: {roc_auc}\")\n",
    "\n",
    "print(\"Classification Report on AIM-Data:\")\n",
    "print(classification_report(y_aim, y_aim_pred))\n",
    "\n",
    "vergleich = pd.DataFrame({\n",
    "    'Tatsächlicher Wert': y_aim,\n",
    "    'Vorhergesagter Wert': y_aim_pred\n",
    "})\n",
    "\n",
    "print(vergleich.head(10))"
   ]
  },
  {
   "cell_type": "code",
   "execution_count": 163,
   "metadata": {},
   "outputs": [
    {
     "name": "stdout",
     "output_type": "stream",
     "text": [
      "<class 'pandas.core.frame.DataFrame'>\n",
      "RangeIndex: 1512 entries, 0 to 1511\n",
      "Data columns (total 8 columns):\n",
      " #   Column        Non-Null Count  Dtype  \n",
      "---  ------        --------------  -----  \n",
      " 0   lesion_id     1512 non-null   object \n",
      " 1   image_id      1512 non-null   object \n",
      " 2   dx            1512 non-null   object \n",
      " 3   dx_type       1512 non-null   object \n",
      " 4   age           1512 non-null   float64\n",
      " 5   sex           1511 non-null   object \n",
      " 6   localization  1511 non-null   object \n",
      " 7   dataset       1511 non-null   object \n",
      "dtypes: float64(1), object(7)\n",
      "memory usage: 94.6+ KB\n"
     ]
    }
   ],
   "source": [
    "aim_data.info()"
   ]
  },
  {
   "cell_type": "code",
   "execution_count": 108,
   "metadata": {},
   "outputs": [
    {
     "name": "stdout",
     "output_type": "stream",
     "text": [
      "\n",
      "Modell: RF\n",
      "Genauigkeit: 0.7059410883674488\n",
      "Klassifikationsbericht:\n",
      "              precision    recall  f1-score   support\n",
      "\n",
      "           0       0.76      0.97      0.85      1338\n",
      "           1       0.00      0.00      0.00        28\n",
      "           2       1.00      0.05      0.09        21\n",
      "           3       0.44      0.33      0.38       228\n",
      "           4       0.30      0.09      0.13        93\n",
      "           5       0.25      0.09      0.13        69\n",
      "           6       0.34      0.10      0.16       226\n",
      "\n",
      "    accuracy                           0.71      2003\n",
      "   macro avg       0.44      0.23      0.25      2003\n",
      "weighted avg       0.63      0.71      0.64      2003\n",
      "\n",
      "ROC-AUC-Score: 0.8288085038901901\n",
      "\n",
      "Modell: Gradient Boosting\n",
      "Genauigkeit: 0.7039440838741887\n",
      "Klassifikationsbericht:\n",
      "              precision    recall  f1-score   support\n",
      "\n",
      "           0       0.75      0.97      0.85      1338\n",
      "           1       0.00      0.00      0.00        28\n",
      "           2       0.00      0.00      0.00        21\n",
      "           3       0.42      0.36      0.38       228\n",
      "           4       0.40      0.02      0.04        93\n",
      "           5       0.33      0.09      0.14        69\n",
      "           6       0.37      0.12      0.18       226\n",
      "\n",
      "    accuracy                           0.70      2003\n",
      "   macro avg       0.33      0.22      0.23      2003\n",
      "weighted avg       0.62      0.70      0.64      2003\n",
      "\n",
      "ROC-AUC-Score: 0.8333333722168428\n",
      "\n",
      "Modell: SVM\n",
      "Genauigkeit: 0.6679980029955067\n",
      "Klassifikationsbericht:\n",
      "              precision    recall  f1-score   support\n",
      "\n",
      "           0       0.67      1.00      0.80      1338\n",
      "           1       0.00      0.00      0.00        28\n",
      "           2       0.00      0.00      0.00        21\n",
      "           3       0.00      0.00      0.00       228\n",
      "           4       0.00      0.00      0.00        93\n",
      "           5       0.00      0.00      0.00        69\n",
      "           6       0.00      0.00      0.00       226\n",
      "\n",
      "    accuracy                           0.67      2003\n",
      "   macro avg       0.10      0.14      0.11      2003\n",
      "weighted avg       0.45      0.67      0.54      2003\n",
      "\n",
      "ROC-AUC-Score: 0.6522752503810396\n",
      "\n",
      "Modell: KNN\n",
      "Genauigkeit: 0.6779830254618073\n",
      "Klassifikationsbericht:\n",
      "              precision    recall  f1-score   support\n",
      "\n",
      "           0       0.77      0.94      0.85      1338\n",
      "           1       0.00      0.00      0.00        28\n",
      "           2       1.00      0.10      0.17        21\n",
      "           3       0.38      0.26      0.31       228\n",
      "           4       0.20      0.20      0.20        93\n",
      "           5       0.10      0.07      0.08        69\n",
      "           6       0.25      0.08      0.13       226\n",
      "\n",
      "    accuracy                           0.68      2003\n",
      "   macro avg       0.38      0.24      0.25      2003\n",
      "weighted avg       0.61      0.68      0.63      2003\n",
      "\n",
      "ROC-AUC-Score: 0.6886423518257657\n"
     ]
    },
    {
     "name": "stderr",
     "output_type": "stream",
     "text": [
      "/Library/Frameworks/Python.framework/Versions/3.12/lib/python3.12/site-packages/sklearn/metrics/_classification.py:1531: UndefinedMetricWarning: Precision is ill-defined and being set to 0.0 in labels with no predicted samples. Use `zero_division` parameter to control this behavior.\n",
      "  _warn_prf(average, modifier, f\"{metric.capitalize()} is\", len(result))\n",
      "/Library/Frameworks/Python.framework/Versions/3.12/lib/python3.12/site-packages/sklearn/metrics/_classification.py:1531: UndefinedMetricWarning: Precision is ill-defined and being set to 0.0 in labels with no predicted samples. Use `zero_division` parameter to control this behavior.\n",
      "  _warn_prf(average, modifier, f\"{metric.capitalize()} is\", len(result))\n",
      "/Library/Frameworks/Python.framework/Versions/3.12/lib/python3.12/site-packages/sklearn/metrics/_classification.py:1531: UndefinedMetricWarning: Precision is ill-defined and being set to 0.0 in labels with no predicted samples. Use `zero_division` parameter to control this behavior.\n",
      "  _warn_prf(average, modifier, f\"{metric.capitalize()} is\", len(result))\n",
      "/Library/Frameworks/Python.framework/Versions/3.12/lib/python3.12/site-packages/sklearn/metrics/_classification.py:1531: UndefinedMetricWarning: Precision is ill-defined and being set to 0.0 in labels with no predicted samples. Use `zero_division` parameter to control this behavior.\n",
      "  _warn_prf(average, modifier, f\"{metric.capitalize()} is\", len(result))\n",
      "/Library/Frameworks/Python.framework/Versions/3.12/lib/python3.12/site-packages/sklearn/metrics/_classification.py:1531: UndefinedMetricWarning: Precision is ill-defined and being set to 0.0 in labels with no predicted samples. Use `zero_division` parameter to control this behavior.\n",
      "  _warn_prf(average, modifier, f\"{metric.capitalize()} is\", len(result))\n",
      "/Library/Frameworks/Python.framework/Versions/3.12/lib/python3.12/site-packages/sklearn/metrics/_classification.py:1531: UndefinedMetricWarning: Precision is ill-defined and being set to 0.0 in labels with no predicted samples. Use `zero_division` parameter to control this behavior.\n",
      "  _warn_prf(average, modifier, f\"{metric.capitalize()} is\", len(result))\n",
      "/Library/Frameworks/Python.framework/Versions/3.12/lib/python3.12/site-packages/sklearn/metrics/_classification.py:1531: UndefinedMetricWarning: Precision is ill-defined and being set to 0.0 in labels with no predicted samples. Use `zero_division` parameter to control this behavior.\n",
      "  _warn_prf(average, modifier, f\"{metric.capitalize()} is\", len(result))\n",
      "/Library/Frameworks/Python.framework/Versions/3.12/lib/python3.12/site-packages/sklearn/metrics/_classification.py:1531: UndefinedMetricWarning: Precision is ill-defined and being set to 0.0 in labels with no predicted samples. Use `zero_division` parameter to control this behavior.\n",
      "  _warn_prf(average, modifier, f\"{metric.capitalize()} is\", len(result))\n",
      "/Library/Frameworks/Python.framework/Versions/3.12/lib/python3.12/site-packages/sklearn/metrics/_classification.py:1531: UndefinedMetricWarning: Precision is ill-defined and being set to 0.0 in labels with no predicted samples. Use `zero_division` parameter to control this behavior.\n",
      "  _warn_prf(average, modifier, f\"{metric.capitalize()} is\", len(result))\n",
      "/Library/Frameworks/Python.framework/Versions/3.12/lib/python3.12/site-packages/sklearn/metrics/_classification.py:1531: UndefinedMetricWarning: Precision is ill-defined and being set to 0.0 in labels with no predicted samples. Use `zero_division` parameter to control this behavior.\n",
      "  _warn_prf(average, modifier, f\"{metric.capitalize()} is\", len(result))\n",
      "/Library/Frameworks/Python.framework/Versions/3.12/lib/python3.12/site-packages/sklearn/metrics/_classification.py:1531: UndefinedMetricWarning: Precision is ill-defined and being set to 0.0 in labels with no predicted samples. Use `zero_division` parameter to control this behavior.\n",
      "  _warn_prf(average, modifier, f\"{metric.capitalize()} is\", len(result))\n",
      "/Library/Frameworks/Python.framework/Versions/3.12/lib/python3.12/site-packages/sklearn/metrics/_classification.py:1531: UndefinedMetricWarning: Precision is ill-defined and being set to 0.0 in labels with no predicted samples. Use `zero_division` parameter to control this behavior.\n",
      "  _warn_prf(average, modifier, f\"{metric.capitalize()} is\", len(result))\n"
     ]
    }
   ],
   "source": [
    "# Datenvorverarbeitung ohne oversampling\n",
    "imputer = SimpleImputer(strategy='mean')\n",
    "data['age'] = imputer.fit_transform(data[['age']])\n",
    "\n",
    "label_encoder_sex = LabelEncoder()\n",
    "data['sex'] = label_encoder_sex.fit_transform(data['sex'])\n",
    "\n",
    "label_encoder_localization = LabelEncoder()\n",
    "data['localization'] = label_encoder_localization.fit_transform(data['localization'])\n",
    "\n",
    "dx_classes = {'nv': 0 , 'mel': 6, 'bkl': 3, 'bcc': 4, 'vasc': 2, 'akiec': 5, 'df': 1}\n",
    "data['Class'] = data['dx'].map(dx_classes)\n",
    "\n",
    "X = data[['age', 'sex', 'localization']]\n",
    "y = data['Class']\n",
    "\n",
    "X_train, X_test, y_train, y_test = train_test_split(X, y, test_size=0.2, random_state=42)\n",
    "\n",
    "#Modell 1: RF\n",
    "model_RF = RandomForestClassifier(random_state=42)\n",
    "model_RF.fit(X_train, y_train)\n",
    "y_pred_RF = model_RF.predict(X_test)\n",
    "y_pred_proba_RF = model_RF.predict_proba(X_test)\n",
    "\n",
    "# Modell 2: Gradient Boosting\n",
    "model_GB = GradientBoostingClassifier(random_state=42)\n",
    "model_GB.fit(X_train, y_train)\n",
    "y_pred_GB = model_GB.predict(X_test)\n",
    "y_pred_proba_GB = model_GB.predict_proba(X_test)\n",
    "\n",
    "# Modell 3: Support Vector Machine (SVM)\n",
    "model_SVM = SVC(probability=True, random_state=42)\n",
    "model_SVM.fit(X_train, y_train)\n",
    "y_pred_SVM = model_SVM.predict(X_test)\n",
    "y_pred_proba_SVM = model_SVM.predict_proba(X_test)\n",
    "\n",
    "# Modell 4: K-Nearest Neighbors (KNN)\n",
    "model_KNN = KNeighborsClassifier()\n",
    "model_KNN.fit(X_train, y_train)\n",
    "y_pred_KNN = model_KNN.predict(X_test)\n",
    "y_pred_proba_KNN = model_KNN.predict_proba(X_test)\n",
    "\n",
    "# Auswertung für alle Modelle\n",
    "models = {\n",
    "    \"RF\": (y_pred_RF, y_pred_proba_RF),\n",
    "    \"Gradient Boosting\": (y_pred_GB, y_pred_proba_GB),\n",
    "    \"SVM\": (y_pred_SVM, y_pred_proba_SVM),\n",
    "    \"KNN\": (y_pred_KNN, y_pred_proba_KNN)\n",
    "}\n",
    "\n",
    "# Binarisierung der Zielvariable für ROC-AUC\n",
    "y_test_binarized = label_binarize(y_test, classes=[0, 1, 2, 3, 4, 5, 6])\n",
    "\n",
    "for model_name, (y_pred, y_pred_proba) in models.items():\n",
    "    print(f\"\\nModell: {model_name}\")\n",
    "    print(\"Genauigkeit:\", accuracy_score(y_test, y_pred))\n",
    "    print(\"Klassifikationsbericht:\")\n",
    "    print(classification_report(y_test, y_pred))\n",
    "    roc_auc = roc_auc_score(y_test_binarized, y_pred_proba, multi_class=\"ovr\")\n",
    "    print(f\"ROC-AUC-Score: {roc_auc}\")\n",
    "\n",
    "    \n"
   ]
  },
  {
   "cell_type": "code",
   "execution_count": 109,
   "metadata": {},
   "outputs": [
    {
     "data": {
      "text/plain": [
       "['model_knn.pkl']"
      ]
     },
     "execution_count": 109,
     "metadata": {},
     "output_type": "execute_result"
    }
   ],
   "source": [
    "import joblib\n",
    "\n",
    "# Speichern der Modelle\n",
    "joblib.dump(model_RF, 'model_Random_Forest.pkl')\n",
    "joblib.dump(model_GB, 'model_gradient_boosting.pkl')\n",
    "joblib.dump(model_SVM, 'model_svm.pkl')\n",
    "joblib.dump(model_KNN, 'model_knn.pkl')\n"
   ]
  },
  {
   "cell_type": "code",
   "execution_count": 110,
   "metadata": {},
   "outputs": [
    {
     "name": "stdout",
     "output_type": "stream",
     "text": [
      "              Modell  Genauigkeit  F1-Score  ROC-AUC-Score\n",
      "0                 RF     0.705941  0.641709       0.828809\n",
      "1  Gradient Boosting     0.703944  0.636592       0.833333\n",
      "2                SVM     0.667998  0.535038       0.652275\n",
      "3                KNN     0.677983  0.629808       0.688642\n"
     ]
    }
   ],
   "source": [
    "import pandas as pd\n",
    "from sklearn.metrics import accuracy_score, classification_report, roc_auc_score, f1_score\n",
    "\n",
    "y_test_binarized = label_binarize(y_test, classes=[0, 1, 2, 3, 4, 5, 6])\n",
    "\n",
    "models = {\n",
    "    \"RF\": model_RF,\n",
    "    \"Gradient Boosting\": model_GB,\n",
    "    \"SVM\": model_SVM,\n",
    "    \"KNN\": model_KNN\n",
    "}\n",
    "\n",
    "results = []\n",
    "\n",
    "# Loop through each model for evaluation\n",
    "for model_name, model in models.items():\n",
    "     # Predictions for the test set\n",
    "    y_pred = model.predict(X_test)\n",
    "    y_pred_proba = model.predict_proba(X_test)\n",
    "\n",
    "    # Calculate metrics for evaluation\n",
    "    accuracy = accuracy_score(y_test, y_pred)\n",
    "    f1 = f1_score(y_test, y_pred, average='weighted')\n",
    "    roc_auc = roc_auc_score(y_test_binarized, y_pred_proba, multi_class=\"ovr\")\n",
    "\n",
    "    # Store the results in the list\n",
    "    results.append({\n",
    "        \"Modell\": model_name,\n",
    "        \"Genauigkeit\": accuracy,\n",
    "        \"F1-Score\": f1,\n",
    "        \"ROC-AUC-Score\": roc_auc\n",
    "    })\n",
    "    \n",
    "results_df = pd.DataFrame(results)\n",
    "print(results_df.head())\n"
   ]
  },
  {
   "cell_type": "code",
   "execution_count": 111,
   "metadata": {},
   "outputs": [
    {
     "name": "stdout",
     "output_type": "stream",
     "text": [
      "   Random Forest  Gradient Boosting       SVM       KNN\n",
      "0       0.808400           0.800436  0.666011  0.693718\n",
      "1       0.819974           0.809496  0.663563  0.679776\n",
      "2       0.800924           0.808262  0.630782  0.695762\n",
      "3       0.782891           0.804593  0.659713  0.674755\n",
      "4       0.807673           0.795067  0.651424  0.681835\n"
     ]
    },
    {
     "data": {
      "image/png": "[encoded data removed]",
      "text/plain": [
       "<Figure size 1000x600 with 1 Axes>"
      ]
     },
     "metadata": {},
     "output_type": "display_data"
    }
   ],
   "source": [
    "from sklearn.model_selection import cross_val_score\n",
    "import pandas as pd\n",
    "import matplotlib.pyplot as plt\n",
    "\n",
    "\n",
    "scores_dict = {}\n",
    "\n",
    "scoring_metric = \"roc_auc_ovr\"  \n",
    "\n",
    "# Loop through each model and compute cross-validated scores\n",
    "for pipe, name in zip([model_RF, model_GB, model_SVM, model_KNN], \n",
    "                      [\"Random Forest\", \"Gradient Boosting\", \"SVM\", \"KNN\"]):\n",
    "    \n",
    "    pipe.fit(X_train, y_train)\n",
    "  \n",
    "    cv_score = cross_val_score(estimator=pipe, X=X_train, y=y_train, scoring=scoring_metric, cv=5)\n",
    "    \n",
    "    scores_dict[name] = cv_score\n",
    "\n",
    "# Convert the dictionary into a DataFrame for easier analysis\n",
    "scores_df = pd.DataFrame(scores_dict)\n",
    "\n",
    "print(scores_df)\n",
    "\n",
    "# Plot the scores as a boxplot\n",
    "scores_df.plot(kind=\"box\", figsize=(10, 6), title=f\"{scoring_metric.replace('_', ' ').title()} Comparison Across Models\")\n",
    "plt.ylabel(scoring_metric.replace('_', ' ').title())\n",
    "plt.show()\n"
   ]
  },
  {
   "cell_type": "code",
   "execution_count": null,
   "metadata": {},
   "outputs": [],
   "source": []
  }
 ],
 "metadata": {
  "kernelspec": {
   "display_name": "Python 3",
   "language": "python",
   "name": "python3"
  },
  "language_info": {
   "codemirror_mode": {
    "name": "ipython",
    "version": 3
   },
   "file_extension": ".py",
   "mimetype": "text/x-python",
   "name": "python",
   "nbconvert_exporter": "python",
   "pygments_lexer": "ipython3",
   "version": "3.12.4"
  },
  "orig_nbformat": 4
 },
 "nbformat": 4,
 "nbformat_minor": 2
}
