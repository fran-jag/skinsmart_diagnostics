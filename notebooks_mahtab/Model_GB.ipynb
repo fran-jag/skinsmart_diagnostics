{
 "cells": [
  {
   "cell_type": "code",
   "execution_count": 30,
   "metadata": {},
   "outputs": [],
   "source": [
    "\n",
    "import pandas as pd\n",
    "from sklearn.model_selection import train_test_split\n",
    "from sklearn.ensemble import GradientBoostingClassifier\n",
    "from sklearn.metrics import classification_report, accuracy_score, roc_auc_score\n",
    "from sklearn.preprocessing import LabelEncoder, label_binarize\n",
    "from sklearn.impute import SimpleImputer\n",
    "from imblearn.over_sampling import RandomOverSampler\n",
    "import matplotlib.pyplot as plt\n",
    "import seaborn as sns\n",
    "import os\n",
    "import joblib"
   ]
  },
  {
   "cell_type": "code",
   "execution_count": 2,
   "metadata": {},
   "outputs": [
    {
     "data": {
      "text/plain": [
       "'/Users/mahtablashgari/Desktop/GemeinsamRepository/Skin_cancer_diagnosis_tool/Notebooks'"
      ]
     },
     "execution_count": 2,
     "metadata": {},
     "output_type": "execute_result"
    }
   ],
   "source": [
    "os.getcwd()"
   ]
  },
  {
   "cell_type": "code",
   "execution_count": 9,
   "metadata": {},
   "outputs": [
    {
     "name": "stdout",
     "output_type": "stream",
     "text": [
      "\u001b[34mDataset\u001b[m\u001b[m/            \u001b[34mNotebooks\u001b[m\u001b[m/          \u001b[34mmodels\u001b[m\u001b[m/             \u001b[34mtest\u001b[m\u001b[m/\n",
      "Dockerfile          README.md           requirements.txt\n",
      "LICENSE             docker-compose.yml  \u001b[34msrc\u001b[m\u001b[m/\n"
     ]
    }
   ],
   "source": [
    "ls\n"
   ]
  },
  {
   "cell_type": "code",
   "execution_count": 12,
   "metadata": {},
   "outputs": [
    {
     "name": "stdout",
     "output_type": "stream",
     "text": [
      "/Users/mahtablashgari/Desktop/GemeinsamRepository/Skin_cancer_diagnosis_tool/Dataset/dataverse_files\n"
     ]
    },
    {
     "name": "stderr",
     "output_type": "stream",
     "text": [
      "/Users/mahtablashgari/Library/Python/3.12/lib/python/site-packages/IPython/core/magics/osm.py:417: UserWarning: This is now an optional IPython functionality, setting dhist requires you to install the `pickleshare` library.\n",
      "  self.shell.db['dhist'] = compress_dhist(dhist)[-100:]\n"
     ]
    }
   ],
   "source": [
    "cd dataverse_files"
   ]
  },
  {
   "cell_type": "code",
   "execution_count": 13,
   "metadata": {},
   "outputs": [],
   "source": [
    "import os\n",
    "import pandas as pd\n",
    "\n",
    "data = pd.read_csv('HAM10000_metadata.csv')\n"
   ]
  },
  {
   "cell_type": "code",
   "execution_count": 17,
   "metadata": {},
   "outputs": [
    {
     "name": "stdout",
     "output_type": "stream",
     "text": [
      "Genauigkeit: 0.7039440838741887\n",
      "Klassifikationsbericht:\n",
      "              precision    recall  f1-score   support\n",
      "\n",
      "           0       0.75      0.97      0.85      1338\n",
      "           1       0.00      0.00      0.00        28\n",
      "           2       0.00      0.00      0.00        21\n",
      "           3       0.42      0.36      0.38       228\n",
      "           4       0.40      0.02      0.04        93\n",
      "           5       0.33      0.09      0.14        69\n",
      "           6       0.37      0.12      0.18       226\n",
      "\n",
      "    accuracy                           0.70      2003\n",
      "   macro avg       0.33      0.22      0.23      2003\n",
      "weighted avg       0.62      0.70      0.64      2003\n",
      "\n",
      "ROC-AUC-Score: 0.8333333722168428\n",
      "      Tatsächlicher Wert  Vorhergesagter Wert  Wahrscheinlichkeit Klasse 0  \\\n",
      "1617                   6                    3                     0.067020   \n",
      "8128                   0                    0                     0.867997   \n",
      "\n",
      "      Wahrscheinlichkeit Klasse 1  Wahrscheinlichkeit Klasse 2  \\\n",
      "1617                     0.001081                     0.002021   \n",
      "8128                     0.028231                     0.006461   \n",
      "\n",
      "      Wahrscheinlichkeit Klasse 3  Wahrscheinlichkeit Klasse 4  \\\n",
      "1617                     0.416581                     0.168764   \n",
      "8128                     0.033848                     0.006978   \n",
      "\n",
      "      Wahrscheinlichkeit Klasse 5  Wahrscheinlichkeit Klasse 6  \n",
      "1617                     0.188557                     0.155976  \n",
      "8128                     0.001932                     0.054553  \n"
     ]
    },
    {
     "name": "stderr",
     "output_type": "stream",
     "text": [
      "/Library/Frameworks/Python.framework/Versions/3.12/lib/python3.12/site-packages/sklearn/metrics/_classification.py:1531: UndefinedMetricWarning: Precision is ill-defined and being set to 0.0 in labels with no predicted samples. Use `zero_division` parameter to control this behavior.\n",
      "  _warn_prf(average, modifier, f\"{metric.capitalize()} is\", len(result))\n",
      "/Library/Frameworks/Python.framework/Versions/3.12/lib/python3.12/site-packages/sklearn/metrics/_classification.py:1531: UndefinedMetricWarning: Precision is ill-defined and being set to 0.0 in labels with no predicted samples. Use `zero_division` parameter to control this behavior.\n",
      "  _warn_prf(average, modifier, f\"{metric.capitalize()} is\", len(result))\n",
      "/Library/Frameworks/Python.framework/Versions/3.12/lib/python3.12/site-packages/sklearn/metrics/_classification.py:1531: UndefinedMetricWarning: Precision is ill-defined and being set to 0.0 in labels with no predicted samples. Use `zero_division` parameter to control this behavior.\n",
      "  _warn_prf(average, modifier, f\"{metric.capitalize()} is\", len(result))\n"
     ]
    }
   ],
   "source": [
    "\n",
    "imputer = SimpleImputer(strategy='mean')\n",
    "data['age'] = imputer.fit_transform(data[['age']])\n",
    "\n",
    "label_encoder_sex = LabelEncoder()\n",
    "data['sex'] = label_encoder_sex.fit_transform(data['sex'])\n",
    "\n",
    "label_encoder_localization = LabelEncoder()\n",
    "data['localization'] = label_encoder_localization.fit_transform(data['localization'])\n",
    "\n",
    "dx_classes = {'nv': 0 , 'mel': 6, 'bkl': 3, 'bcc': 4, 'vasc': 2, 'akiec':5, 'df':1}\n",
    "data['Class']= data['dx'].map(dx_classes)\n",
    "\n",
    "X = data[['age', 'sex', 'localization']]\n",
    "y = data['Class']\n",
    "\n",
    "X_train, X_test, y_train, y_test = train_test_split(X, y, test_size=0.2, random_state=42)\n",
    "\n",
    "model_GB = GradientBoostingClassifier(random_state=42)\n",
    "model_GB.fit(X_train, y_train)\n",
    "\n",
    "y_pred = model_GB.predict(X_test)\n",
    "y_pred_proba = model_GB.predict_proba(X_test)\n",
    "\n",
    "\n",
    "print(\"Genauigkeit:\", accuracy_score(y_test, y_pred))\n",
    "print(\"Klassifikationsbericht:\")\n",
    "print(classification_report(y_test, y_pred))\n",
    "\n",
    "# ROC-AUC \n",
    "y_test_binarized = label_binarize(y_test, classes=[0, 1, 2, 3, 4, 5, 6])\n",
    "roc_auc = roc_auc_score(y_test_binarized, y_pred_proba, multi_class=\"ovr\")\n",
    "print(f\"ROC-AUC-Score: {roc_auc}\")\n",
    "\n",
    "vergleich = pd.DataFrame({\n",
    "    'Tatsächlicher Wert': y_test,\n",
    "    'Vorhergesagter Wert': y_pred\n",
    "})\n",
    "\n",
    "for i in range(len(y_test_binarized[0])):\n",
    "    vergleich[f'Wahrscheinlichkeit Klasse {i}'] = y_pred_proba[:, i]\n",
    "\n",
    "print(vergleich.head(2))"
   ]
  },
  {
   "cell_type": "code",
   "execution_count": 18,
   "metadata": {},
   "outputs": [
    {
     "name": "stdout",
     "output_type": "stream",
     "text": [
      "Modell erfolgreich gespeichert!\n"
     ]
    }
   ],
   "source": [
    "joblib.dump(model_GB, 'model_GB.pkl')\n",
    "print(\"Modell erfolgreich gespeichert!\")"
   ]
  },
  {
   "cell_type": "code",
   "execution_count": null,
   "metadata": {},
   "outputs": [],
   "source": []
  },
  {
   "cell_type": "code",
   "execution_count": null,
   "metadata": {},
   "outputs": [],
   "source": []
  },
  {
   "cell_type": "code",
   "execution_count": 21,
   "metadata": {},
   "outputs": [
    {
     "name": "stdout",
     "output_type": "stream",
     "text": [
      "\n",
      "Modell: RF\n",
      "Genauigkeit: 0.7059410883674488\n",
      "Klassifikationsbericht:\n",
      "              precision    recall  f1-score   support\n",
      "\n",
      "           0       0.76      0.97      0.85      1338\n",
      "           1       0.00      0.00      0.00        28\n",
      "           2       1.00      0.05      0.09        21\n",
      "           3       0.44      0.33      0.38       228\n",
      "           4       0.30      0.09      0.13        93\n",
      "           5       0.25      0.09      0.13        69\n",
      "           6       0.34      0.10      0.16       226\n",
      "\n",
      "    accuracy                           0.71      2003\n",
      "   macro avg       0.44      0.23      0.25      2003\n",
      "weighted avg       0.63      0.71      0.64      2003\n",
      "\n",
      "ROC-AUC-Score: 0.8288085038901901\n",
      "\n",
      "Modell: Gradient Boosting\n",
      "Genauigkeit: 0.7039440838741887\n",
      "Klassifikationsbericht:\n",
      "              precision    recall  f1-score   support\n",
      "\n",
      "           0       0.75      0.97      0.85      1338\n",
      "           1       0.00      0.00      0.00        28\n",
      "           2       0.00      0.00      0.00        21\n",
      "           3       0.42      0.36      0.38       228\n",
      "           4       0.40      0.02      0.04        93\n",
      "           5       0.33      0.09      0.14        69\n",
      "           6       0.37      0.12      0.18       226\n",
      "\n",
      "    accuracy                           0.70      2003\n",
      "   macro avg       0.33      0.22      0.23      2003\n",
      "weighted avg       0.62      0.70      0.64      2003\n",
      "\n",
      "ROC-AUC-Score: 0.8333333722168428\n",
      "\n",
      "Modell: SVM\n",
      "Genauigkeit: 0.6679980029955067\n",
      "Klassifikationsbericht:\n",
      "              precision    recall  f1-score   support\n",
      "\n",
      "           0       0.67      1.00      0.80      1338\n",
      "           1       0.00      0.00      0.00        28\n",
      "           2       0.00      0.00      0.00        21\n",
      "           3       0.00      0.00      0.00       228\n",
      "           4       0.00      0.00      0.00        93\n",
      "           5       0.00      0.00      0.00        69\n",
      "           6       0.00      0.00      0.00       226\n",
      "\n",
      "    accuracy                           0.67      2003\n",
      "   macro avg       0.10      0.14      0.11      2003\n",
      "weighted avg       0.45      0.67      0.54      2003\n",
      "\n",
      "ROC-AUC-Score: 0.6522752503810396\n",
      "\n",
      "Modell: KNN\n",
      "Genauigkeit: 0.6779830254618073\n",
      "Klassifikationsbericht:\n",
      "              precision    recall  f1-score   support\n",
      "\n",
      "           0       0.77      0.94      0.85      1338\n",
      "           1       0.00      0.00      0.00        28\n",
      "           2       1.00      0.10      0.17        21\n",
      "           3       0.38      0.26      0.31       228\n",
      "           4       0.20      0.20      0.20        93\n",
      "           5       0.10      0.07      0.08        69\n",
      "           6       0.25      0.08      0.13       226\n",
      "\n",
      "    accuracy                           0.68      2003\n",
      "   macro avg       0.38      0.24      0.25      2003\n",
      "weighted avg       0.61      0.68      0.63      2003\n",
      "\n",
      "ROC-AUC-Score: 0.6886423518257657\n"
     ]
    },
    {
     "name": "stderr",
     "output_type": "stream",
     "text": [
      "/Library/Frameworks/Python.framework/Versions/3.12/lib/python3.12/site-packages/sklearn/metrics/_classification.py:1531: UndefinedMetricWarning: Precision is ill-defined and being set to 0.0 in labels with no predicted samples. Use `zero_division` parameter to control this behavior.\n",
      "  _warn_prf(average, modifier, f\"{metric.capitalize()} is\", len(result))\n",
      "/Library/Frameworks/Python.framework/Versions/3.12/lib/python3.12/site-packages/sklearn/metrics/_classification.py:1531: UndefinedMetricWarning: Precision is ill-defined and being set to 0.0 in labels with no predicted samples. Use `zero_division` parameter to control this behavior.\n",
      "  _warn_prf(average, modifier, f\"{metric.capitalize()} is\", len(result))\n",
      "/Library/Frameworks/Python.framework/Versions/3.12/lib/python3.12/site-packages/sklearn/metrics/_classification.py:1531: UndefinedMetricWarning: Precision is ill-defined and being set to 0.0 in labels with no predicted samples. Use `zero_division` parameter to control this behavior.\n",
      "  _warn_prf(average, modifier, f\"{metric.capitalize()} is\", len(result))\n",
      "/Library/Frameworks/Python.framework/Versions/3.12/lib/python3.12/site-packages/sklearn/metrics/_classification.py:1531: UndefinedMetricWarning: Precision is ill-defined and being set to 0.0 in labels with no predicted samples. Use `zero_division` parameter to control this behavior.\n",
      "  _warn_prf(average, modifier, f\"{metric.capitalize()} is\", len(result))\n",
      "/Library/Frameworks/Python.framework/Versions/3.12/lib/python3.12/site-packages/sklearn/metrics/_classification.py:1531: UndefinedMetricWarning: Precision is ill-defined and being set to 0.0 in labels with no predicted samples. Use `zero_division` parameter to control this behavior.\n",
      "  _warn_prf(average, modifier, f\"{metric.capitalize()} is\", len(result))\n",
      "/Library/Frameworks/Python.framework/Versions/3.12/lib/python3.12/site-packages/sklearn/metrics/_classification.py:1531: UndefinedMetricWarning: Precision is ill-defined and being set to 0.0 in labels with no predicted samples. Use `zero_division` parameter to control this behavior.\n",
      "  _warn_prf(average, modifier, f\"{metric.capitalize()} is\", len(result))\n",
      "/Library/Frameworks/Python.framework/Versions/3.12/lib/python3.12/site-packages/sklearn/metrics/_classification.py:1531: UndefinedMetricWarning: Precision is ill-defined and being set to 0.0 in labels with no predicted samples. Use `zero_division` parameter to control this behavior.\n",
      "  _warn_prf(average, modifier, f\"{metric.capitalize()} is\", len(result))\n",
      "/Library/Frameworks/Python.framework/Versions/3.12/lib/python3.12/site-packages/sklearn/metrics/_classification.py:1531: UndefinedMetricWarning: Precision is ill-defined and being set to 0.0 in labels with no predicted samples. Use `zero_division` parameter to control this behavior.\n",
      "  _warn_prf(average, modifier, f\"{metric.capitalize()} is\", len(result))\n",
      "/Library/Frameworks/Python.framework/Versions/3.12/lib/python3.12/site-packages/sklearn/metrics/_classification.py:1531: UndefinedMetricWarning: Precision is ill-defined and being set to 0.0 in labels with no predicted samples. Use `zero_division` parameter to control this behavior.\n",
      "  _warn_prf(average, modifier, f\"{metric.capitalize()} is\", len(result))\n",
      "/Library/Frameworks/Python.framework/Versions/3.12/lib/python3.12/site-packages/sklearn/metrics/_classification.py:1531: UndefinedMetricWarning: Precision is ill-defined and being set to 0.0 in labels with no predicted samples. Use `zero_division` parameter to control this behavior.\n",
      "  _warn_prf(average, modifier, f\"{metric.capitalize()} is\", len(result))\n",
      "/Library/Frameworks/Python.framework/Versions/3.12/lib/python3.12/site-packages/sklearn/metrics/_classification.py:1531: UndefinedMetricWarning: Precision is ill-defined and being set to 0.0 in labels with no predicted samples. Use `zero_division` parameter to control this behavior.\n",
      "  _warn_prf(average, modifier, f\"{metric.capitalize()} is\", len(result))\n",
      "/Library/Frameworks/Python.framework/Versions/3.12/lib/python3.12/site-packages/sklearn/metrics/_classification.py:1531: UndefinedMetricWarning: Precision is ill-defined and being set to 0.0 in labels with no predicted samples. Use `zero_division` parameter to control this behavior.\n",
      "  _warn_prf(average, modifier, f\"{metric.capitalize()} is\", len(result))\n"
     ]
    }
   ],
   "source": [
    "from sklearn.impute import SimpleImputer\n",
    "from sklearn.preprocessing import LabelEncoder, label_binarize\n",
    "from sklearn.model_selection import train_test_split\n",
    "from sklearn.ensemble import RandomForestClassifier\n",
    "from sklearn.ensemble import GradientBoostingClassifier\n",
    "from sklearn.svm import SVC\n",
    "from sklearn.neighbors import KNeighborsClassifier\n",
    "from sklearn.metrics import accuracy_score, classification_report, roc_auc_score\n",
    "\n",
    "# Datenvorverarbeitung\n",
    "imputer = SimpleImputer(strategy='mean')\n",
    "data['age'] = imputer.fit_transform(data[['age']])\n",
    "\n",
    "label_encoder_sex = LabelEncoder()\n",
    "data['sex'] = label_encoder_sex.fit_transform(data['sex'])\n",
    "\n",
    "label_encoder_localization = LabelEncoder()\n",
    "data['localization'] = label_encoder_localization.fit_transform(data['localization'])\n",
    "\n",
    "dx_classes = {'nv': 0 , 'mel': 6, 'bkl': 3, 'bcc': 4, 'vasc': 2, 'akiec': 5, 'df': 1}\n",
    "data['Class'] = data['dx'].map(dx_classes)\n",
    "\n",
    "X = data[['age', 'sex', 'localization']]\n",
    "y = data['Class']\n",
    "\n",
    "X_train, X_test, y_train, y_test = train_test_split(X, y, test_size=0.2, random_state=42)\n",
    "\n",
    "#Modell 1: RF\n",
    "model_RF = RandomForestClassifier(random_state=42)\n",
    "model_RF.fit(X_train, y_train)\n",
    "y_pred_RF = model_RF.predict(X_test)\n",
    "y_pred_proba_RF = model_RF.predict_proba(X_test)\n",
    "\n",
    "# Modell 2: Gradient Boosting\n",
    "model_GB = GradientBoostingClassifier(random_state=42)\n",
    "model_GB.fit(X_train, y_train)\n",
    "y_pred_GB = model_GB.predict(X_test)\n",
    "y_pred_proba_GB = model_GB.predict_proba(X_test)\n",
    "\n",
    "# Modell 3: Support Vector Machine (SVM)\n",
    "model_SVM = SVC(probability=True, random_state=42)\n",
    "model_SVM.fit(X_train, y_train)\n",
    "y_pred_SVM = model_SVM.predict(X_test)\n",
    "y_pred_proba_SVM = model_SVM.predict_proba(X_test)\n",
    "\n",
    "# Modell 4: K-Nearest Neighbors (KNN)\n",
    "model_KNN = KNeighborsClassifier()\n",
    "model_KNN.fit(X_train, y_train)\n",
    "y_pred_KNN = model_KNN.predict(X_test)\n",
    "y_pred_proba_KNN = model_KNN.predict_proba(X_test)\n",
    "\n",
    "# Auswertung für alle Modelle\n",
    "models = {\n",
    "    \"RF\": (y_pred_RF, y_pred_proba_RF),\n",
    "    \"Gradient Boosting\": (y_pred_GB, y_pred_proba_GB),\n",
    "    \"SVM\": (y_pred_SVM, y_pred_proba_SVM),\n",
    "    \"KNN\": (y_pred_KNN, y_pred_proba_KNN)\n",
    "}\n",
    "\n",
    "# Binarisierung der Zielvariable für ROC-AUC\n",
    "y_test_binarized = label_binarize(y_test, classes=[0, 1, 2, 3, 4, 5, 6])\n",
    "\n",
    "for model_name, (y_pred, y_pred_proba) in models.items():\n",
    "    print(f\"\\nModell: {model_name}\")\n",
    "    print(\"Genauigkeit:\", accuracy_score(y_test, y_pred))\n",
    "    print(\"Klassifikationsbericht:\")\n",
    "    print(classification_report(y_test, y_pred))\n",
    "    roc_auc = roc_auc_score(y_test_binarized, y_pred_proba, multi_class=\"ovr\")\n",
    "    print(f\"ROC-AUC-Score: {roc_auc}\")\n"
   ]
  },
  {
   "cell_type": "code",
   "execution_count": 22,
   "metadata": {},
   "outputs": [
    {
     "data": {
      "text/plain": [
       "['model_knn.pkl']"
      ]
     },
     "execution_count": 22,
     "metadata": {},
     "output_type": "execute_result"
    }
   ],
   "source": [
    "import joblib\n",
    "\n",
    "# Speichern der Modelle\n",
    "joblib.dump(model_RF, 'model_Random_Forest.pkl')\n",
    "joblib.dump(model_GB, 'model_gradient_boosting.pkl')\n",
    "joblib.dump(model_SVM, 'model_svm.pkl')\n",
    "joblib.dump(model_KNN, 'model_knn.pkl')\n"
   ]
  },
  {
   "cell_type": "code",
   "execution_count": 33,
   "metadata": {},
   "outputs": [
    {
     "name": "stdout",
     "output_type": "stream",
     "text": [
      "              Modell  Genauigkeit  F1-Score  ROC-AUC-Score\n",
      "0                 RF     0.705941  0.641709       0.828809\n",
      "1  Gradient Boosting     0.703944  0.636592       0.833333\n",
      "2                SVM     0.667998  0.535038       0.652275\n",
      "3                KNN     0.677983  0.629808       0.688642\n"
     ]
    }
   ],
   "source": [
    "import pandas as pd\n",
    "from sklearn.metrics import accuracy_score, classification_report, roc_auc_score, f1_score\n",
    "\n",
    "y_test_binarized = label_binarize(y_test, classes=[0, 1, 2, 3, 4, 5, 6])\n",
    "\n",
    "models = {\n",
    "    \"RF\": model_RF,\n",
    "    \"Gradient Boosting\": model_GB,\n",
    "    \"SVM\": model_SVM,\n",
    "    \"KNN\": model_KNN\n",
    "}\n",
    "\n",
    "# Initialize an empty list to store the results\n",
    "results = []\n",
    "\n",
    "# Loop through each model for evaluation\n",
    "for model_name, model in models.items():\n",
    "     # Predictions for the test set\n",
    "    y_pred = model.predict(X_test)\n",
    "    y_pred_proba = model.predict_proba(X_test)\n",
    "\n",
    "    # Calculate metrics for evaluation\n",
    "    accuracy = accuracy_score(y_test, y_pred)\n",
    "    f1 = f1_score(y_test, y_pred, average='weighted')\n",
    "    roc_auc = roc_auc_score(y_test_binarized, y_pred_proba, multi_class=\"ovr\")\n",
    "\n",
    "    # Store the results in the list\n",
    "    results.append({\n",
    "        \"Modell\": model_name,\n",
    "        \"Genauigkeit\": accuracy,\n",
    "        \"F1-Score\": f1,\n",
    "        \"ROC-AUC-Score\": roc_auc\n",
    "    })\n",
    "    \n",
    "results_df = pd.DataFrame(results)\n",
    "print(results_df.head())\n"
   ]
  }
 ],
 "metadata": {
  "kernelspec": {
   "display_name": "Python 3",
   "language": "python",
   "name": "python3"
  },
  "language_info": {
   "codemirror_mode": {
    "name": "ipython",
    "version": 3
   },
   "file_extension": ".py",
   "mimetype": "text/x-python",
   "name": "python",
   "nbconvert_exporter": "python",
   "pygments_lexer": "ipython3",
   "version": "3.12.4"
  },
  "orig_nbformat": 4
 },
 "nbformat": 4,
 "nbformat_minor": 2
}
